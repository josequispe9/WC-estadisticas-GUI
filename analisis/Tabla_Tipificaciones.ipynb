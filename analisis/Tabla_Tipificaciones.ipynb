{
 "cells": [
  {
   "cell_type": "markdown",
   "id": "9b567184",
   "metadata": {},
   "source": [
    "| Tipificación                        | Descripción |\n",
    "|-------------------------------------|-------------|\n",
    "| Cae Muda o Cortada                  | Llamadas atendidas por el agente y que se cortan sin iniciar una conversación |\n",
    "| Se corta durante la conversación    | Llamadas que se cortan durante la interacción con el cliente |\n",
    "| Cliente Ocupado                     | Generalmente personas que no pueden conversar en el momento |\n",
    "| Conforme con plan-prestador actual  | Cliente que no tiene interés en cambiarse de compañía |\n",
    "| Contestador                         | Contestador personalizado, no filtrado por Mitrol porque no es genérico |\n",
    "| No quiere volver a ser contactado   | Cliente probablemente muy llamado |\n",
    "| Agendado por el Vdor                | Conversación agendada para continuarse después |\n",
    "| No Disp.                            | Interacciones que no fueron tipificadas por el agente |\n",
    "| Número equivocado                   | No coincide el nombre del cliente con la línea |\n",
    "| Mala experiencia anterior con MVS   | Cliente molesto con la experiencia anterior en la compañía |\n",
    "| Ya tiene MVS                        | Ya tiene MVS |\n",
    "| Problemas de señal MVS en su zona   | Cliente sin señal MVS en su casa |\n",
    "| Venta                               | Venta |\n",
    "| Cliente Corporativo                 | Cliente que no toma la decisión del cambio de portabilidad |\n",
    "| Cliente moroso (Supera umbral)      | Cliente con deuda imperdonable |\n",
    "| No usa o No tiene celular           | No usa o no tiene celular |\n",
    "| Edificio sin Disp de Caja           | El edificio no cuenta con disponibilidad de caja |\n"
   ]
  }
 ],
 "metadata": {
  "language_info": {
   "name": "python"
  }
 },
 "nbformat": 4,
 "nbformat_minor": 5
}
